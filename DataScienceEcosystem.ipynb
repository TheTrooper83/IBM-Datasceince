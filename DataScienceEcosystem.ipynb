{
 "cells": [
  {
   "cell_type": "markdown",
   "id": "64ca7cab-01a7-4171-8dde-93c476b84fe8",
   "metadata": {},
   "source": [
    "# DataScienceEcosystem"
   ]
  },
  {
   "cell_type": "markdown",
   "id": "2f43dc4f-e69c-4d99-9bc0-520804837a0d",
   "metadata": {},
   "source": [
    "In this notebook, Data Science Tools and Ecosystem are summarized."
   ]
  },
  {
   "cell_type": "markdown",
   "id": "2fcc1a1c-3c51-4a07-926b-1e83e1aea267",
   "metadata": {},
   "source": [
    "**Objectives:**\n",
    "\n",
    "- List popular languages for Data Science\n",
    "- List popular libraries for Data Science\n",
    "- Create a table and list the development environments\n",
    "- Add a code cell and calculate arithmetic expressions\n",
    "- Add some ordered and unordered lists\n",
    "\n"
   ]
  },
  {
   "cell_type": "markdown",
   "id": "2c8e2ae1-6c92-4c9f-8ef3-cd8cecad22e6",
   "metadata": {},
   "source": [
    "Some of the popular languages that Data Scientists use are:\n",
    "\n",
    "1. Python\n",
    "2. R Language\n",
    "3. SQL\n",
    "4. Scala\n",
    "\n"
   ]
  },
  {
   "cell_type": "markdown",
   "id": "9197d4dc-edff-4657-9106-dd1e28041a5b",
   "metadata": {},
   "source": [
    "Some of the commonly used libraries used by Data Scientists include:\n",
    "\n",
    "1. Pandas\n",
    "2. NumPy\n",
    "3. Matplotlib\n",
    "4. Seaborn\n",
    "5. Scikit-learn\n",
    "6. Keras"
   ]
  },
  {
   "cell_type": "markdown",
   "id": "87ead4e9-cd28-4339-b2c6-5b372d021131",
   "metadata": {},
   "source": [
    "| Data Science Tools|\n",
    "|-------------------|\n",
    "| Jupyter Notebooks |\n",
    "| Anaconda          |\n",
    "| Visual Studio Code| "
   ]
  },
  {
   "cell_type": "markdown",
   "id": "d9f7a2df-75d2-4cc7-b8dd-150185dadcb0",
   "metadata": {},
   "source": [
    "### Below are a few examples of evaluating arithmetic expressions in Python"
   ]
  },
  {
   "cell_type": "code",
   "execution_count": 2,
   "id": "c7b9c0ca-85b3-4ea3-908c-0d4b8d8832a2",
   "metadata": {
    "tags": []
   },
   "outputs": [
    {
     "data": {
      "text/plain": [
       "17"
      ]
     },
     "execution_count": 2,
     "metadata": {},
     "output_type": "execute_result"
    }
   ],
   "source": [
    "# This a simple arithmetic expression to mutiply then add integers\n",
    "(3*4)+5"
   ]
  },
  {
   "cell_type": "code",
   "execution_count": 3,
   "id": "05218cce-147a-4c03-a738-3625543586de",
   "metadata": {
    "tags": []
   },
   "outputs": [
    {
     "data": {
      "text/plain": [
       "3.3333333333333335"
      ]
     },
     "execution_count": 3,
     "metadata": {},
     "output_type": "execute_result"
    }
   ],
   "source": [
    "# This will convert 200 minutes to hours by diving by 60\n",
    "200 / 60"
   ]
  },
  {
   "cell_type": "markdown",
   "id": "8a32dd8e-5947-4d93-bfbd-a39e2690ea8b",
   "metadata": {},
   "source": [
    "## Author\n",
    "Sean"
   ]
  },
  {
   "cell_type": "code",
   "execution_count": null,
   "id": "395b68ff-d1d8-4a85-b21f-28d983f0fcdc",
   "metadata": {},
   "outputs": [],
   "source": []
  }
 ],
 "metadata": {
  "kernelspec": {
   "display_name": "Python",
   "language": "python",
   "name": "conda-env-python-py"
  },
  "language_info": {
   "codemirror_mode": {
    "name": "ipython",
    "version": 3
   },
   "file_extension": ".py",
   "mimetype": "text/x-python",
   "name": "python",
   "nbconvert_exporter": "python",
   "pygments_lexer": "ipython3",
   "version": "3.7.12"
  }
 },
 "nbformat": 4,
 "nbformat_minor": 5
}
